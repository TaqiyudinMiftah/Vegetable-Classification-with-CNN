{
 "cells": [
  {
   "cell_type": "markdown",
   "id": "d0990935",
   "metadata": {},
   "source": [
    "# Menggunakan Virtual Environtment Agar Bisa Menggunakan Versi Python Yang Berbeda"
   ]
  },
  {
   "cell_type": "markdown",
   "id": "4e2a1fa0",
   "metadata": {},
   "source": [
    "## Library yang dibutuhkan \n",
    "- python 3.10\n",
    "- tensorflow 2.10\n",
    "- tensorflowjs 3.21\n",
    "- jax 0.4.20\n",
    "- jaxlib 0.4.20\n",
    "- numpy 1.26.4"
   ]
  },
  {
   "cell_type": "code",
   "execution_count": 3,
   "id": "7d4bc92a",
   "metadata": {},
   "outputs": [
    {
     "name": "stdout",
     "output_type": "stream",
     "text": [
      "Writing weight file ./modelsTfjs\\model.json...\n"
     ]
    }
   ],
   "source": [
    "!tensorflowjs_converter --input_format=tf_saved_model ./saved_model/my_model ./modelsTfjs"
   ]
  }
 ],
 "metadata": {
  "kernelspec": {
   "display_name": ".venv",
   "language": "python",
   "name": "python3"
  },
  "language_info": {
   "codemirror_mode": {
    "name": "ipython",
    "version": 3
   },
   "file_extension": ".py",
   "mimetype": "text/x-python",
   "name": "python",
   "nbconvert_exporter": "python",
   "pygments_lexer": "ipython3",
   "version": "3.10.0"
  }
 },
 "nbformat": 4,
 "nbformat_minor": 5
}
